{
 "cells": [
  {
   "cell_type": "code",
   "execution_count": 3,
   "metadata": {
    "collapsed": true
   },
   "outputs": [],
   "source": [
    "import gym\n",
    "import numpy as np\n",
    "import random\n",
    "import time\n",
    "from IPython.display import clear_output"
   ]
  },
  {
   "cell_type": "code",
   "execution_count": 19,
   "outputs": [],
   "source": [
    "env = gym.make('FrozenLake-v0')"
   ],
   "metadata": {
    "collapsed": false,
    "pycharm": {
     "name": "#%%\n"
    }
   }
  },
  {
   "cell_type": "code",
   "execution_count": 20,
   "outputs": [
    {
     "name": "stdout",
     "output_type": "stream",
     "text": [
      "4\n",
      "16\n"
     ]
    }
   ],
   "source": [
    "action_space_size = env.action_space.n\n",
    "state_space_size = env.observation_space.n\n",
    "\n",
    "q_table = np.zeros((state_space_size, action_space_size))\n",
    "\n",
    "print(action_space_size)\n",
    "print(state_space_size)"
   ],
   "metadata": {
    "collapsed": false,
    "pycharm": {
     "name": "#%%\n"
    }
   }
  },
  {
   "cell_type": "code",
   "execution_count": 21,
   "outputs": [],
   "source": [
    "num_episodes = 10000\n",
    "max_steps_per_episode = 100\n",
    "exploration_rate = 1\n",
    "max_eploration_rate = 1\n",
    "min_exploration_rate = 0.01\n",
    "exploration_decay_rate = 0.01\n",
    "\n",
    "discount_rate = 0.99\n",
    "learning_rate = 0.1"
   ],
   "metadata": {
    "collapsed": false,
    "pycharm": {
     "name": "#%%\n"
    }
   }
  },
  {
   "cell_type": "code",
   "execution_count": 22,
   "outputs": [],
   "source": [
    "rewards_all_episodes = []\n",
    "\n",
    "for episode in range(num_episodes):\n",
    "    state = env.reset()\n",
    "\n",
    "    done = False\n",
    "    rewards_current_episode = 0\n",
    "\n",
    "    for step in range(max_steps_per_episode):\n",
    "\n",
    "        # Exploration-exploitation trade-off\n",
    "        exploration_rate_threshold = np.random.uniform(0, 1)\n",
    "        if exploration_rate_threshold > exploration_rate:\n",
    "            action = np.argmax(q_table[state, :])\n",
    "        else:\n",
    "            action = env.action_space.sample()\n",
    "\n",
    "        new_state, reward, done, info = env.step(action)\n",
    "        if done:\n",
    "            target = reward\n",
    "        else:\n",
    "            target = reward + discount_rate * np.max(q_table[new_state, :])\n",
    "        q_table[state, action] = (1 - learning_rate) * q_table[state, action] + \\\n",
    "                                 learning_rate * target\n",
    "\n",
    "        state = new_state\n",
    "        rewards_current_episode += reward\n",
    "\n",
    "        if done:\n",
    "            break\n",
    "\n",
    "    # Exploration rate decay\n",
    "    exploration_rate = min_exploration_rate + \\\n",
    "                       (max_eploration_rate - min_exploration_rate) * \\\n",
    "                       np.exp(-exploration_decay_rate * episode)\n",
    "\n",
    "    rewards_all_episodes.append(rewards_current_episode)\n",
    "\n"
   ],
   "metadata": {
    "collapsed": false,
    "pycharm": {
     "name": "#%%\n"
    }
   }
  },
  {
   "cell_type": "code",
   "execution_count": 23,
   "outputs": [
    {
     "name": "stdout",
     "output_type": "stream",
     "text": [
      "********Average reward per thousand episodes********\n",
      "\n",
      "1000 :  0.07700000000000005\n",
      "2000 :  0.33600000000000024\n",
      "3000 :  0.2450000000000002\n",
      "4000 :  0.3950000000000003\n",
      "5000 :  0.32500000000000023\n",
      "6000 :  0.3970000000000003\n",
      "7000 :  0.4960000000000004\n",
      "8000 :  0.6420000000000005\n",
      "9000 :  0.6810000000000005\n",
      "10000 :  0.6920000000000005\n",
      "\n",
      "\n",
      "********Q-table********\n",
      "\n",
      "[[0.5358805  0.42962859 0.41046748 0.45182677]\n",
      " [0.20044216 0.11782158 0.19210018 0.40381519]\n",
      " [0.33404697 0.18521746 0.13971022 0.16940204]\n",
      " [0.14247088 0.         0.         0.        ]\n",
      " [0.55100465 0.3600674  0.43870298 0.27953868]\n",
      " [0.         0.         0.         0.        ]\n",
      " [0.20030695 0.13138215 0.14531869 0.14113524]\n",
      " [0.         0.         0.         0.        ]\n",
      " [0.36660346 0.50672302 0.44959188 0.58437999]\n",
      " [0.39475587 0.60472482 0.48291616 0.41370425]\n",
      " [0.53612462 0.28836282 0.2791905  0.19421684]\n",
      " [0.         0.         0.         0.        ]\n",
      " [0.         0.         0.         0.        ]\n",
      " [0.40576002 0.59465366 0.76400983 0.45304878]\n",
      " [0.67735662 0.87315703 0.74025567 0.65554645]\n",
      " [0.         0.         0.         0.        ]]\n"
     ]
    }
   ],
   "source": [
    "rewards_per_thousand_episodes = np.split(np.array(rewards_all_episodes),\n",
    "                                         num_episodes/1000)\n",
    "count = 1000\n",
    "print('********Average reward per thousand episodes********\\n')\n",
    "for r in rewards_per_thousand_episodes:\n",
    "    print(count, ': ', str(sum(r/1000)))\n",
    "    count += 1000\n",
    "\n",
    "print('\\n\\n********Q-table********\\n')\n",
    "print(q_table)\n"
   ],
   "metadata": {
    "collapsed": false,
    "pycharm": {
     "name": "#%%\n"
    }
   }
  },
  {
   "cell_type": "code",
   "execution_count": 30,
   "outputs": [
    {
     "name": "stdout",
     "output_type": "stream",
     "text": [
      "  (Down)\n",
      "SFFF\n",
      "FHFH\n",
      "FFFH\n",
      "HFF\u001B[41mG\u001B[0m\n",
      "****You reached the goal!*****\n"
     ]
    }
   ],
   "source": [
    "for episode in range(3):\n",
    "    state = env.reset()\n",
    "    done = False\n",
    "    print('*****EPISODE ', episode + 1, '*****\\n\\n\\n')\n",
    "    time.sleep(1)\n",
    "\n",
    "    for step in range(max_steps_per_episode):\n",
    "        clear_output(wait=True)\n",
    "        env.render()\n",
    "        time.sleep(0.3)\n",
    "\n",
    "        action = np.argmax(q_table[state, :])\n",
    "        new_state, reward, done, info = env.step(action)\n",
    "\n",
    "        if done:\n",
    "            clear_output(wait=True)\n",
    "            env.render()\n",
    "            if reward == 1:\n",
    "                print('****You reached the goal!*****')\n",
    "                time.sleep(3)\n",
    "            else:\n",
    "                print('****You fell through a hole!*****')\n",
    "                time.sleep(3)\n",
    "            clear_output(wait=True)\n",
    "            break\n",
    "\n",
    "        state = new_state\n",
    "\n",
    "env.close()\n"
   ],
   "metadata": {
    "collapsed": false,
    "pycharm": {
     "name": "#%%\n"
    }
   }
  },
  {
   "cell_type": "code",
   "execution_count": null,
   "outputs": [],
   "source": [
    "\n"
   ],
   "metadata": {
    "collapsed": false,
    "pycharm": {
     "name": "#%%\n"
    }
   }
  }
 ],
 "metadata": {
  "kernelspec": {
   "display_name": "Python 3",
   "language": "python",
   "name": "python3"
  },
  "language_info": {
   "codemirror_mode": {
    "name": "ipython",
    "version": 2
   },
   "file_extension": ".py",
   "mimetype": "text/x-python",
   "name": "python",
   "nbconvert_exporter": "python",
   "pygments_lexer": "ipython2",
   "version": "2.7.6"
  }
 },
 "nbformat": 4,
 "nbformat_minor": 0
}